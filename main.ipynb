{
 "cells": [
  {
   "cell_type": "code",
   "id": "initial_id",
   "metadata": {
    "collapsed": true,
    "ExecuteTime": {
     "end_time": "2025-06-30T21:33:53.511562Z",
     "start_time": "2025-06-30T21:33:53.079841Z"
    }
   },
   "source": [
    "import requests\n",
    "\n",
    "def get_temperature_germany():\n",
    "    # Beispielkoordinaten für Berlin (Zentrum Deutschlands wäre auch möglich)\n",
    "    latitude = 51.1657\n",
    "    longitude = 10.4515\n",
    "\n",
    "    url = (\n",
    "        f\"https://api.open-meteo.com/v1/forecast?\"\n",
    "        f\"latitude={latitude}&longitude={longitude}\"\n",
    "        f\"&current=temperature_2m\"\n",
    "    )\n",
    "\n",
    "    response = requests.get(url)\n",
    "    if response.status_code != 200:\n",
    "        raise Exception(f\"API-Anfrage fehlgeschlagen mit Statuscode {response.status_code}\")\n",
    "\n",
    "    data = response.json()\n",
    "\n",
    "    try:\n",
    "        temperature = data[\"current\"][\"temperature_2m\"]\n",
    "        time = data[\"current\"][\"time\"]\n",
    "        print(f\"Aktuelle Temperatur in Deutschland (Zentrum) um {time}: {temperature}°C\")\n",
    "    except KeyError:\n",
    "        print(\"Fehler beim Auslesen der Temperaturdaten.\")\n",
    "        print(data)\n",
    "\n",
    "if __name__ == \"__main__\":\n",
    "    get_temperature_germany()"
   ],
   "outputs": [
    {
     "name": "stdout",
     "output_type": "stream",
     "text": [
      "Aktuelle Temperatur in Deutschland (Zentrum) um 2025-06-30T21:30: 18.8°C\n"
     ]
    }
   ],
   "execution_count": 1
  },
  {
   "metadata": {},
   "cell_type": "code",
   "outputs": [],
   "execution_count": null,
   "source": "",
   "id": "39047799758e5017"
  }
 ],
 "metadata": {
  "kernelspec": {
   "display_name": "Python [conda env:base] *",
   "language": "python",
   "name": "conda-base-py"
  },
  "language_info": {
   "codemirror_mode": {
    "name": "ipython",
    "version": 2
   },
   "file_extension": ".py",
   "mimetype": "text/x-python",
   "name": "python",
   "nbconvert_exporter": "python",
   "pygments_lexer": "ipython2",
   "version": "2.7.6"
  }
 },
 "nbformat": 4,
 "nbformat_minor": 5
}
